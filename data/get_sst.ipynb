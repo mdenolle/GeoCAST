{
 "cells": [
  {
   "cell_type": "markdown",
   "metadata": {},
   "source": [
    "# Download and prepare Sea Surface Temperature data.\n",
    "\n",
    "This script will download sea surface temperature data and dump random examples in a CSV files for a temporal forecast.\n",
    "\n",
    "Data is downloaded from NOAA.\n",
    "But note that I cannot yet read these NC files, not sure why!"
   ]
  },
  {
   "cell_type": "code",
   "execution_count": null,
   "metadata": {},
   "outputs": [],
   "source": [
    "!pip install xarray h5netcdf netCDF4 requests\n",
    "import xarray as xr"
   ]
  },
  {
   "cell_type": "markdown",
   "metadata": {},
   "source": [
    "Choose start and end dates"
   ]
  },
  {
   "cell_type": "code",
   "execution_count": null,
   "metadata": {},
   "outputs": [],
   "source": [
    "startdate = '2019-01-01'\n",
    "enddate = '2019-12-31' "
   ]
  },
  {
   "cell_type": "code",
   "execution_count": null,
   "metadata": {},
   "outputs": [],
   "source": [
    "# Base URL\n",
    "base_url='https://www.ncei.noaa.gov/data/sea-surface-temperature-optimum-interpolation/v2.1/access/avhrr/'"
   ]
  },
  {
   "cell_type": "code",
   "execution_count": null,
   "metadata": {},
   "outputs": [],
   "source": [
    "# create a loop for each day of the year by day of month\n",
    "# Create a loop for each day of the year by day of month\n",
    "year = startdate[0:4]\n",
    "for month in range(1, 13):\n",
    "    month_str = f'{month:02d}'  # Format month as two digits\n",
    "    for day in range(1, 32):\n",
    "        day_str = f'{day:02d}'  # Format day as two digits\n",
    "        url = f'{base_url}{year}{month_str}/oisst-avhrr-v02r01.{year}{month_str}{day_str}.nc'\n",
    "        print(url)\n",
    "        try:\n",
    "            ds = xr.open_dataset(url)\n",
    "            print(ds)\n",
    "        except Exception as e:\n",
    "            print(f\"Failed to open dataset for {year}-{month_str}-{day_str}: {e}\")"
   ]
  },
  {
   "cell_type": "code",
   "execution_count": null,
   "metadata": {},
   "outputs": [],
   "source": [
    "import xarray as xr\n",
    "import requests\n",
    "import os\n",
    "\n",
    "# Assuming startdate and base_url are defined\n",
    "startdate = '20190101'\n",
    "base_url = 'https://www.ncei.noaa.gov/data/sea-surface-temperature-optimum-interpolation/v2.1/access/avhrr/'\n",
    "\n",
    "# Create a loop for each day of the year by day of month\n",
    "year = startdate[0:4]\n",
    "for month in range(1, 13):\n",
    "    month_str = f'{month:02d}'  # Format month as two digits\n",
    "    for day in range(1, 32):\n",
    "        day_str = f'{day:02d}'  # Format day as two digits\n",
    "        url = f'{base_url}{year}{month_str}/oisst-avhrr-v02r01.{year}{month_str}{day_str}.nc'\n",
    "        print(url)\n",
    "        try:\n",
    "            # Download the file\n",
    "            response = requests.get(url)\n",
    "            response.raise_for_status()  # Raise an error for bad status codes\n",
    "\n",
    "            # Save the file locally\n",
    "            local_filename = f'oisst-avhrr-v02r01.{year}{month_str}{day_str}.nc'\n",
    "            with open(local_filename, 'wb') as f:\n",
    "                f.write(response.content)\n",
    "\n",
    "            # Open the dataset with xarray\n",
    "            ds = xr.open_dataset(local_filename,engine = 'store')\n",
    "            print(ds)\n",
    "            break\n",
    "\n",
    "            # Optionally, remove the local file after opening\n",
    "            os.remove(local_filename)\n",
    "        except Exception as e:\n",
    "            print(f\"Failed to open dataset for {year}-{month_str}-{day_str}: {e}\")\n",
    "            break"
   ]
  },
  {
   "cell_type": "code",
   "execution_count": null,
   "metadata": {},
   "outputs": [],
   "source": [
    "! pip install kerchunk xarray s3fs\n",
    "import xarray as xr \n",
    "ds = xr.open_dataset('https://ncsa.osn.xsede.org/Pangeo/pangeo-forge/pangeo-forge/aws-noaa-oisst-feedstock/aws-noaa-oisst-avhrr-only.zarr/reference.json',engine='kerchunk')"
   ]
  }
 ],
 "metadata": {
  "kernelspec": {
   "display_name": "quakellm",
   "language": "python",
   "name": "python3"
  },
  "language_info": {
   "codemirror_mode": {
    "name": "ipython",
    "version": 3
   },
   "file_extension": ".py",
   "mimetype": "text/x-python",
   "name": "python",
   "nbconvert_exporter": "python",
   "pygments_lexer": "ipython3",
   "version": "3.11.9"
  }
 },
 "nbformat": 4,
 "nbformat_minor": 2
}
