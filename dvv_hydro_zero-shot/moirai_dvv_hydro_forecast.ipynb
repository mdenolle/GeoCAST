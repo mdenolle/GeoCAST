{
 "cells": [
  {
   "cell_type": "markdown",
   "metadata": {},
   "source": [
    "# Forecast soil moisture from dv/v\n",
    "\n",
    "This notebook will test foundational models that would predict hydrological parameters (e.g., soil moisture) given the past observations of dv/v and temp. It will use the multi-variate MOIRAI forecast."
   ]
  },
  {
   "cell_type": "code",
   "execution_count": null,
   "metadata": {},
   "outputs": [],
   "source": []
  }
 ],
 "metadata": {
  "language_info": {
   "name": "python"
  }
 },
 "nbformat": 4,
 "nbformat_minor": 2
}
